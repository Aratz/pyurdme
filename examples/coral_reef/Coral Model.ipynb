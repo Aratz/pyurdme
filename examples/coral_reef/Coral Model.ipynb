{
 "metadata": {
  "name": ""
 },
 "nbformat": 3,
 "nbformat_minor": 0,
 "worksheets": [
  {
   "cells": [
    {
     "cell_type": "code",
     "collapsed": false,
     "input": [
      "import pyurdme\n",
      "from pyurdme.nsmsolver import NSMSolver\n",
      "from matplotlib import cm as CM\n",
      "from IPython.display import display, clear_output\n",
      "import time"
     ],
     "language": "python",
     "metadata": {},
     "outputs": [],
     "prompt_number": 1
    },
    {
     "cell_type": "code",
     "collapsed": false,
     "input": [
      "class CoralReef(pyurdme.URDMEModel):\n",
      "    \"\"\" Model developed by Briggs and Drawert 3/31/2014, based on a \n",
      "        non-spatial model by Briggs and Adam.\n",
      "    \"\"\"\n",
      "\n",
      "    def __init__(self, name=\"coral_reef\", D_c=1.0, D_m=1.0, version=1):\n",
      "        pyurdme.URDMEModel.__init__(self, name)\n",
      "\n",
      "        # Species\n",
      "        Coral = pyurdme.Species(name=\"Coral\",diffusion_constant=0.0)\n",
      "        Coral_m = pyurdme.Species(name=\"Coral_m\",diffusion_constant=D_c)\n",
      "        MA = pyurdme.Species(name=\"MA\", diffusion_constant=0.0)\n",
      "        MA_m = pyurdme.Species(name=\"MA_m\", diffusion_constant=D_m)\n",
      "        Turf = pyurdme.Species(name=\"Turf\", diffusion_constant=0.0)\n",
      "        self.addSpecies([Coral, MA, Coral_m, MA_m, Turf])\n",
      "\n",
      "        # Parameters\n",
      "        phi_c  = pyurdme.Parameter(name=\"phi_c\", expression=0.001) #1/year\n",
      "        phi_m  = pyurdme.Parameter(name=\"phi_m\", expression=0.0001) #1/year\n",
      "        g_tc  = pyurdme.Parameter(name=\"g_tc\", expression=0.1) #1/year\n",
      "        g_tm = pyurdme.Parameter(name=\"g_tm\", expression=0.2) #1/year\n",
      "        Gamma  = pyurdme.Parameter(name=\"Gamma\", expression=0.05)\n",
      "        dc = pyurdme.Parameter(name=\"dc\", expression=0.05) #1/year\n",
      "        #dm = pyurdme.Parameter(name=\"dm\", expression=0.2) #1/year\n",
      "        dm = pyurdme.Parameter(name=\"dm\", expression=1) #1/year\n",
      "        psi_g = pyurdme.Parameter(name=\"psi_g\", expression=0.0)\n",
      "        #\n",
      "        mu_c = pyurdme.Parameter(name=\"mu_c\", expression=1.0) #1/year\n",
      "        mu_m = pyurdme.Parameter(name=\"mu_m\", expression=1.0) #1/year\n",
      "        \n",
      "        mu_mc = pyurdme.Parameter(name=\"mu_cm\", expression=1.0) #1/year\n",
      "        mu_cm = pyurdme.Parameter(name=\"mu_mc\", expression=1.0) #1/year\n",
      "        \n",
      "        self.addParameter([phi_c, phi_m, g_tc , g_tm , Gamma, dc, dm, psi_g, mu_c , mu_m, mu_mc, mu_cm])\n",
      "\n",
      "        # Reactions:\n",
      "\n",
      "        # Propagule Recruitment\n",
      "        # T -> C  : phi_c\n",
      "        # T -> MA : phi_m\n",
      "        if version > 1 or version==5:\n",
      "            R0 = pyurdme.Reaction(name=\"R0\", reactants={}, products={Coral_m:1}, rate=phi_c)\n",
      "            R1 = pyurdme.Reaction(name=\"R1\", reactants={}, products={MA_m:1}, rate=phi_m)\n",
      "        else:\n",
      "            R0 = pyurdme.Reaction(name=\"R0\", reactants={Turf:1}, products={Coral:1}, rate=phi_c)\n",
      "            R1 = pyurdme.Reaction(name=\"R1\", reactants={Turf:1}, products={MA:1}, rate=phi_m)\n",
      "        \n",
      "        # Death rates\n",
      "        # C -> T : dc\n",
      "        R3 = pyurdme.Reaction(name=\"R3\", reactants={Coral:1}, products={Turf:1}, rate=dc)\n",
      "        # MA -> T : dm\n",
      "        R4 = pyurdme.Reaction(name=\"R4\", reactants={MA:1}, products={Turf:1}, rate=dm)\n",
      "\n",
      "        # Growth\n",
      "        # T + C_m -> C : g_tc * exp(-1*psi_g*MA*100)\n",
      "        R5 = pyurdme.Reaction(name=\"R5\", reactants={Turf:1, Coral_m:1}, products={Coral:1}, propensity_function=\"Turf * Coral_m * g_tc * exp(-1.0 * psi_g * MA * 100)/vol\")\n",
      "        # T + MA_m -> MA : g_tm\n",
      "        R6  = pyurdme.Reaction(name=\"R6\", reactants={Turf:1, MA_m:1}, products={MA:1}, propensity_function=\"Turf * MA_m * g_tm / vol\")\n",
      "        if version > 1 or version==5:\n",
      "            # MA_m + C -> MA : Gamma*g_tm\n",
      "            R7 = pyurdme.Reaction(name=\"R7\", reactants={Coral:1}, products={MA_m:1}, propensity_function=\"MA_m * Coral * Gamma * g_tm / vol\")\n",
      "        else:\n",
      "            # MA + C -> 2MA : Gamma*g_tm\n",
      "            R7 = pyurdme.Reaction(name=\"R7\", reactants={Coral:1}, products={MA:1}, propensity_function=\"MA * Coral * Gamma * g_tm / vol\")\n",
      "\n",
      "        # Movement, working in meters\n",
      "        # C -> C + C_m : mu_c + g_tc * exp(-1*psi_g*MA*100)\n",
      "        R8 = pyurdme.Reaction(name=\"R8\", reactants={}, products={Coral_m:1}, propensity_function=\"Coral * (mu_c + g_tc * exp(-1.0 * psi_g * MA * 100))\")\n",
      "        # C_m -> 0 :  mu_c\n",
      "        R9 = pyurdme.Reaction(name=\"R9\", reactants={Coral_m:1}, products={}, rate=mu_c)\n",
      "        # MA -> MA + MA_m : g_tm + mu_m \n",
      "        R10 = pyurdme.Reaction(name=\"R10\", reactants={}, products={MA_m:1}, propensity_function=\"MA * (g_tm + mu_m)\")\n",
      "        # MA_m -> 0 :  mu_m\n",
      "        R11 = pyurdme.Reaction(name=\"R11\", reactants={MA_m:1},  products={}, rate=mu_m)\n",
      "        self.addReaction([R0, R1, R3, R4, R5, R6, R7, R8, R9, R10, R11])\n",
      "\n",
      "        if version == 2:\n",
      "            # C_m + MA_m -> 0\n",
      "            R12 = pyurdme.Reaction(name=\"R12\", reactants={MA_m:1,Coral_m:1},  products={}, propensity_function=\"(mu_c + mu_m) * MA_m * Coral_m / vol\")\n",
      "            self.addReaction([R12])\n",
      "\n",
      "        if version == 4 or version==5:\n",
      "            # C_m + MA_m -> 0\n",
      "            R13 = pyurdme.Reaction(name=\"R13\", reactants={Coral_m:1},  products={}, propensity_function=\"mu_cm * MA * Coral_m / vol\")\n",
      "            R14 = pyurdme.Reaction(name=\"R14\", reactants={MA_m:1},  products={}, propensity_function=\"mu_mc * MA_m * Coral / vol\")\n",
      "            self.addReaction([R13, R14])\n",
      "\n",
      "\n",
      "\n",
      "\n",
      "        # A unit square\n",
      "        # each grid point is 10cm x 10cm, domain is 5m x 5m\n",
      "        self.mesh = pyurdme.URDMEMesh.SquareMesh(L=5, nx=50, ny=50, periodic=True)\n",
      "\n",
      "        # Place the A molecules in the voxel nearest the center of the square\n",
      "        #self.placeNear({Coral:100}, point=[10,10])\n",
      "        \n",
      "        if False:\n",
      "            self.distributeUniformly({Turf:100})\n",
      "            self.placeNear({Coral:100}, point=[1,1])\n",
      "            self.placeNear({Turf:0}, point=[1,1])\n",
      "            self.placeNear({MA:100}, point=[4,4])\n",
      "            self.placeNear({Turf:0}, point=[4,4])\n",
      "        else:\n",
      "            self.distributeUniformly({Turf:0})\n",
      "            self.distributeUniformly({Coral:99})\n",
      "            self.distributeUniformly({MA:1})\n",
      "            \n",
      "\n",
      "\n",
      "        for vndx in range(self.u0.shape[1]):\n",
      "            tot = 0\n",
      "            for sndx, sname in enumerate(self.listOfSpecies):\n",
      "                tot += self.u0[sndx][vndx]\n",
      "            if tot > 100:\n",
      "                for sndx, sname in enumerate(self.listOfSpecies):\n",
      "                    print \"u0[{0}][{1}] = {2}\".format(sname, vndx, self.u0[sndx][vndx])\n",
      "\n",
      "        #self.timespan(numpy.linspace(0,500,501)) #500 years\n",
      "        #self.timespan(numpy.linspace(0,5,72)) #5 years, by months\n",
      "        self.timespan(numpy.linspace(0,11,66)) #10 years, by 2 months"
     ],
     "language": "python",
     "metadata": {},
     "outputs": [],
     "prompt_number": 13
    },
    {
     "cell_type": "code",
     "collapsed": false,
     "input": [
      "model = CoralReef(version=1)\n",
      "solver = NSMSolver(model)\n",
      "result = solver.run()"
     ],
     "language": "python",
     "metadata": {},
     "outputs": [
      {
       "output_type": "stream",
       "stream": "stderr",
       "text": [
        "DEBUG:UFL:No integrals left after transformation, returning empty form.\n"
       ]
      },
      {
       "output_type": "stream",
       "stream": "stderr",
       "text": [
        "DEBUG:FFC:Reusing form from cache.\n"
       ]
      },
      {
       "output_type": "stream",
       "stream": "stderr",
       "text": [
        "DEBUG:UFL:No integrals left after transformation, returning empty form.\n"
       ]
      },
      {
       "output_type": "stream",
       "stream": "stderr",
       "text": [
        "DEBUG:UFL:No integrals left after transformation, returning empty form.\n"
       ]
      },
      {
       "output_type": "stream",
       "stream": "stderr",
       "text": [
        "DEBUG:FFC:Reusing form from cache.\n"
       ]
      },
      {
       "output_type": "stream",
       "stream": "stderr",
       "text": [
        "DEBUG:UFL:No integrals left after transformation, returning empty form.\n"
       ]
      },
      {
       "output_type": "stream",
       "stream": "stderr",
       "text": [
        "DEBUG:UFL:No integrals left after transformation, returning empty form.\n"
       ]
      },
      {
       "output_type": "stream",
       "stream": "stderr",
       "text": [
        "DEBUG:FFC:Reusing form from cache.\n"
       ]
      },
      {
       "output_type": "stream",
       "stream": "stderr",
       "text": [
        "DEBUG:UFL:No integrals left after transformation, returning empty form.\n"
       ]
      },
      {
       "output_type": "stream",
       "stream": "stderr",
       "text": [
        "DEBUG:UFL:No integrals left after transformation, returning empty form.\n"
       ]
      },
      {
       "output_type": "stream",
       "stream": "stderr",
       "text": [
        "DEBUG:FFC:Reusing form from cache.\n"
       ]
      },
      {
       "output_type": "stream",
       "stream": "stderr",
       "text": [
        "DEBUG:UFL:No integrals left after transformation, returning empty form.\n"
       ]
      },
      {
       "output_type": "stream",
       "stream": "stderr",
       "text": [
        "DEBUG:UFL:No integrals left after transformation, returning empty form.\n"
       ]
      },
      {
       "output_type": "stream",
       "stream": "stderr",
       "text": [
        "DEBUG:FFC:Reusing form from cache.\n"
       ]
      },
      {
       "output_type": "stream",
       "stream": "stderr",
       "text": [
        "DEBUG:UFL:No integrals left after transformation, returning empty form.\n"
       ]
      },
      {
       "output_type": "stream",
       "stream": "stderr",
       "text": [
        "DEBUG:UFL:No integrals left after transformation, returning empty form.\n"
       ]
      },
      {
       "output_type": "stream",
       "stream": "stderr",
       "text": [
        "DEBUG:FFC:Reusing form from cache.\n"
       ]
      },
      {
       "output_type": "stream",
       "stream": "stderr",
       "text": [
        "DEBUG:UFL:No integrals left after transformation, returning empty form.\n"
       ]
      },
      {
       "output_type": "stream",
       "stream": "stderr",
       "text": [
        "DEBUG:UFL:No integrals left after transformation, returning empty form.\n"
       ]
      },
      {
       "output_type": "stream",
       "stream": "stderr",
       "text": [
        "DEBUG:FFC:Reusing form from cache.\n"
       ]
      },
      {
       "output_type": "stream",
       "stream": "stderr",
       "text": [
        "DEBUG:UFL:No integrals left after transformation, returning empty form.\n"
       ]
      },
      {
       "output_type": "stream",
       "stream": "stderr",
       "text": [
        "DEBUG:UFL:No integrals left after transformation, returning empty form.\n"
       ]
      },
      {
       "output_type": "stream",
       "stream": "stderr",
       "text": [
        "DEBUG:FFC:Reusing form from cache.\n"
       ]
      },
      {
       "output_type": "stream",
       "stream": "stderr",
       "text": [
        "DEBUG:UFL:No integrals left after transformation, returning empty form.\n"
       ]
      },
      {
       "output_type": "stream",
       "stream": "stderr",
       "text": [
        "DEBUG:UFL:No integrals left after transformation, returning empty form.\n"
       ]
      },
      {
       "output_type": "stream",
       "stream": "stderr",
       "text": [
        "DEBUG:FFC:Reusing form from cache.\n"
       ]
      },
      {
       "output_type": "stream",
       "stream": "stderr",
       "text": [
        "DEBUG:UFL:No integrals left after transformation, returning empty form.\n"
       ]
      },
      {
       "output_type": "stream",
       "stream": "stderr",
       "text": [
        "DEBUG:UFL:No integrals left after transformation, returning empty form.\n"
       ]
      },
      {
       "output_type": "stream",
       "stream": "stderr",
       "text": [
        "DEBUG:FFC:Reusing form from cache.\n"
       ]
      },
      {
       "output_type": "stream",
       "stream": "stderr",
       "text": [
        "DEBUG:UFL:No integrals left after transformation, returning empty form.\n"
       ]
      },
      {
       "output_type": "stream",
       "stream": "stderr",
       "text": [
        "DEBUG:UFL:No integrals left after transformation, returning empty form.\n"
       ]
      },
      {
       "output_type": "stream",
       "stream": "stderr",
       "text": [
        "DEBUG:FFC:Reusing form from cache.\n"
       ]
      },
      {
       "output_type": "stream",
       "stream": "stderr",
       "text": [
        "DEBUG:UFL:No integrals left after transformation, returning empty form.\n"
       ]
      },
      {
       "output_type": "stream",
       "stream": "stderr",
       "text": [
        "DEBUG:UFL:No integrals left after transformation, returning empty form.\n"
       ]
      },
      {
       "output_type": "stream",
       "stream": "stderr",
       "text": [
        "DEBUG:FFC:Reusing form from cache.\n"
       ]
      }
     ],
     "prompt_number": 33
    },
    {
     "cell_type": "code",
     "collapsed": false,
     "input": [
      "x_vals = model.mesh.coordinates()[:, 0]\n",
      "y_vals = model.mesh.coordinates()[:, 1]\n",
      "C_vals = result.getSpecies(\"Coral\")\n",
      "MA_vals = result.getSpecies(\"MA\")\n",
      "Turf_vals = result.getSpecies(\"Turf\")\n",
      "num_vox = len(x_vals)"
     ],
     "language": "python",
     "metadata": {},
     "outputs": [],
     "prompt_number": 34
    },
    {
     "cell_type": "code",
     "collapsed": false,
     "input": [
      "#heatmap\n",
      "plt.figure(figsize=(12,6), dpi=100)\n",
      "plt.figure(1)\n",
      "for tndx, tval in enumerate(model.tspan[0:1]):\n",
      "    plt.figure(figsize=(12,4), dpi=100)\n",
      "    plt.subplot(1,3,1)\n",
      "    heatmap, xedges, yedges = np.histogram2d(x=x_vals, y=y_vals, weights=C_vals[tndx,:], bins=int(sqrt(num_vox)))\n",
      "    plt.imshow(heatmap)\n",
      "    cb = plt.colorbar()\n",
      "    cb.set_label('Coral population')\n",
      "    plt.title('t={0}'.format(tval))\n",
      "    plt.subplot(1,3,2)\n",
      "    heatmap, xedges, yedges = np.histogram2d(x=x_vals, y=y_vals, weights=MA_vals[tndx,:], bins=int(sqrt(num_vox)))\n",
      "    plt.imshow(heatmap)\n",
      "    cb = plt.colorbar()\n",
      "    cb.set_label('MA population')\n",
      "    plt.title('t={0}'.format(tval))\n",
      "    plt.subplot(1,3,3)\n",
      "    heatmap, xedges, yedges = np.histogram2d(x=x_vals, y=y_vals, weights=Turf_vals[tndx,:], bins=int(sqrt(num_vox)))\n",
      "    plt.imshow(heatmap)\n",
      "    cb = plt.colorbar()\n",
      "    cb.set_label('Free Turf')\n",
      "    plt.title('t={0}'.format(tval))\n",
      "    clear_output()\n",
      "    plt.show()\n",
      "    time.sleep(.01)\n"
     ],
     "language": "python",
     "metadata": {},
     "outputs": [
      {
       "metadata": {},
       "output_type": "display_data",
       "text": [
        "<matplotlib.figure.Figure at 0x11b088510>"
       ]
      },
      {
       "metadata": {},
       "output_type": "display_data",
       "png": "[encoded data removed]",
       "text": [
        "<matplotlib.figure.Figure at 0x1197ac050>"
       ]
      }
     ],
     "prompt_number": 23
    },
    {
     "cell_type": "code",
     "collapsed": false,
     "input": [
      "C_vals[1,:]"
     ],
     "language": "python",
     "metadata": {},
     "outputs": [
      {
       "metadata": {},
       "output_type": "pyout",
       "prompt_number": 26,
       "text": [
        "array([ 0.,  0.,  0., ...,  0.,  0.,  0.])"
       ]
      }
     ],
     "prompt_number": 26
    },
    {
     "cell_type": "code",
     "collapsed": false,
     "input": [
      "Turf_vals[1,:]"
     ],
     "language": "python",
     "metadata": {},
     "outputs": [
      {
       "metadata": {},
       "output_type": "pyout",
       "prompt_number": 29,
       "text": [
        "array([ 0.,  0.,  0., ...,  0.,  0.,  0.])"
       ]
      }
     ],
     "prompt_number": 29
    },
    {
     "cell_type": "code",
     "collapsed": false,
     "input": [
      "MA_vals[1,:]"
     ],
     "language": "python",
     "metadata": {},
     "outputs": [
      {
       "metadata": {},
       "output_type": "pyout",
       "prompt_number": 28,
       "text": [
        "array([ 1.,  2.,  1., ...,  1.,  1.,  1.])"
       ]
      }
     ],
     "prompt_number": 28
    },
    {
     "cell_type": "code",
     "collapsed": false,
     "input": [
      "solver.solver_base_dir"
     ],
     "language": "python",
     "metadata": {},
     "outputs": [
      {
       "metadata": {},
       "output_type": "pyout",
       "prompt_number": 32,
       "text": [
        "'/var/folders/cv/pt8dqm555sg1rj9w846bsz880000gn/T/tmpN8H6tR'"
       ]
      }
     ],
     "prompt_number": 32
    },
    {
     "cell_type": "code",
     "collapsed": false,
     "input": [],
     "language": "python",
     "metadata": {},
     "outputs": []
    }
   ],
   "metadata": {}
  }
 ]
}