{
 "metadata": {
  "name": "",
  "signature": "sha256:086d8b01d77ef7a6036a6f318c5b9db59f3732d8bb2690bf4e077eb63f9ad136"
 },
 "nbformat": 3,
 "nbformat_minor": 0,
 "worksheets": [
  {
   "cells": [
    {
     "cell_type": "code",
     "collapsed": false,
     "input": [
      "from adfsp_solver import ADFSPSolver\n",
      "from examples.cylinder_demo.cylinder_demo3D import cylinderDemo3D\n",
      "import pyurdme\n",
      "import time\n",
      "import scipy.fftpack"
     ],
     "language": "python",
     "metadata": {},
     "outputs": [],
     "prompt_number": 1
    },
    {
     "cell_type": "code",
     "collapsed": false,
     "input": [
      "model = cylinderDemo3D()\n",
      "sol = ADFSPSolver(model, report_level=1)\n",
      "print \"Attempting to compile\"\n",
      "sol.compile()\n",
      "print \"Beginning simulation\"\n",
      "t1 = time.time()\n",
      "result = sol.run()\n",
      "print \"Simulation complete in {0}s\".format(time.time()-t1)\n"
     ],
     "language": "python",
     "metadata": {},
     "outputs": [
      {
       "output_type": "stream",
       "stream": "stdout",
       "text": [
        "constructor for the ADFSPSolver, solver_path=/Users/brian/Desktop/research/operator_splitting/urdme_solvers\n",
        "Attempting to compile\n",
        "Compiling Solver\n",
        "Beginning simulation"
       ]
      },
      {
       "output_type": "stream",
       "stream": "stdout",
       "text": [
        "\n",
        "cmd: ['/var/folders/cv/pt8dqm555sg1rj9w846bsz880000gn/T/tmpKNW4ZZ/.urdme/cylinder_demo3d_pyurdme_generated_model.adaptive_dfsp', '/var/folders/cv/pt8dqm555sg1rj9w846bsz880000gn/T/tmpRk55XJ', '/var/folders/cv/pt8dqm555sg1rj9w846bsz880000gn/T/tmpTnmQFy']\n"
       ]
      },
      {
       "output_type": "stream",
       "stream": "stdout",
       "text": [
        "\n",
        "Simulation complete in 4.49384498596s"
       ]
      },
      {
       "output_type": "stream",
       "stream": "stdout",
       "text": [
        "\n"
       ]
      }
     ],
     "prompt_number": 2
    },
    {
     "cell_type": "code",
     "collapsed": false,
     "input": [
      "print result.stdout"
     ],
     "language": "python",
     "metadata": {},
     "outputs": [
      {
       "output_type": "stream",
       "stream": "stdout",
       "text": [
        "Ncells:1076 Mspecies: 2writer = get_urdme_output_writer(model,/var/folders/cv/pt8dqm555sg1rj9w846bsz880000gn/T/tmpTnmQFy);\n",
        "dfsp_core\n",
        "0% done.\n",
        "min_rxn_timestep=4.526063e-03\n",
        "Starting State-Space Exploration (uniformization): tau=9.373063e-04 tol=1.000000e-03 max=3\n",
        "\tComplete: elapsed: 6.668000e-02s, error=1.000000e-03 Nmax=17\n",
        "Starting State-Space Exploration (uniformization): tau=1.874613e-03 tol=1.000000e-03 max=3\n",
        "\tComplete: elapsed: 8.352200e-02s, error=1.000000e-03 Nmax=17\n",
        "Starting State-Space Exploration (uniformization): tau=3.749225e-03 tol=1.000000e-03 max=3\n",
        "\tComplete: elapsed: 8.690800e-02s, error=1.000000e-03 Nmax=17\n",
        "Starting State-Space Exploration (uniformization): tau=7.498451e-03 tol=1.000000e-03 max=3\n",
        "\tComplete: elapsed: 1.445890e-01s, error=1.000000e-03 Nmax=20\n",
        "0% done.\n",
        "Starting State-Space Exploration (uniformization): tau=1.499690e-02 tol=1.000000e-03 max=3\n",
        "\tComplete: elapsed: 2.395300e-01s, error=1.000000e-03 Nmax=33\n",
        "1% done.\n",
        "1% done.\n",
        "Starting State-Space Exploration (uniformization): tau=2.999380e-02 tol=1.000000e-03 max=3\n",
        "\tComplete: elapsed: 3.373810e-01s, error=1.000000e-03 Nmax=55\n",
        "2% done.\n",
        "2% done.\n",
        "3% done.\n",
        "3% done.\n",
        "4% done.\n",
        "4% done.\n",
        "5% done.\n",
        "5% done.\n",
        "6% done.\n",
        "6% done.\n",
        "Starting State-Space Exploration (uniformization): tau=5.998760e-02 tol=1.000000e-03 max=3\n",
        "\tComplete: elapsed: 5.319410e-01s, error=1.000000e-03 Nmax=91\n",
        "7% done.\n",
        "7% done.\n",
        "8% done.\n",
        "8% done.\n",
        "9% done.\n",
        "9% done.\n",
        "10% done.\n",
        "10% done.\n",
        "11% done.\n",
        "11% done.\n",
        "12% done.\n",
        "12% done.\n",
        "13% done.\n",
        "13% done.\n",
        "14% done.\n",
        "14% done.\n",
        "15% done.\n",
        "15% done.\n",
        "16% done.\n",
        "16% done.\n",
        "17% done.\n",
        "17% done.\n",
        "18% done.\n",
        "18% done.\n",
        "19% done.\n",
        "19% done.\n",
        "20% done.\n",
        "20% done.\n",
        "21% done.\n",
        "21% done.\n",
        "22% done.\n",
        "22% done.\n",
        "23% done.\n",
        "23% done.\n",
        "24% done.\n",
        "24% done.\n",
        "25% done.\n",
        "25% done.\n",
        "26% done.\n",
        "26% done.\n",
        "27% done.\n",
        "27% done.\n",
        "28% done.\n",
        "28% done.\n",
        "29% done.\n",
        "29% done.\n",
        "30% done.\n",
        "30% done.\n",
        "31% done.\n",
        "31% done.\n",
        "32% done.\n",
        "32% done.\n",
        "33% done.\n",
        "33% done.\n",
        "34% done.\n",
        "34% done.\n",
        "35% done.\n",
        "35% done.\n",
        "36% done.\n",
        "36% done.\n",
        "37% done.\n",
        "37% done.\n",
        "38% done.\n",
        "38% done.\n",
        "39% done.\n",
        "39% done.\n",
        "40% done.\n",
        "40% done.\n",
        "41% done.\n",
        "41% done.\n",
        "42% done.\n",
        "42% done.\n",
        "43% done.\n",
        "43% done.\n",
        "44% done.\n",
        "44% done.\n",
        "45% done.\n",
        "45% done.\n",
        "46% done.\n",
        "46% done.\n",
        "47% done.\n",
        "47% done.\n",
        "48% done.\n",
        "48% done.\n",
        "49% done.\n",
        "49% done.\n",
        "50% done.\n",
        "50% done.\n",
        "51% done.\n",
        "51% done.\n",
        "52% done.\n",
        "52% done.\n",
        "53% done.\n",
        "53% done.\n",
        "54% done.\n",
        "54% done.\n",
        "55% done.\n",
        "55% done.\n",
        "56% done.\n",
        "56% done.\n",
        "57% done.\n",
        "57% done.\n",
        "58% done.\n",
        "58% done.\n",
        "59% done.\n",
        "59% done.\n",
        "60% done.\n",
        "60% done.\n",
        "61% done.\n",
        "61% done.\n",
        "62% done.\n",
        "62% done.\n",
        "63% done.\n",
        "63% done.\n",
        "64% done.\n",
        "64% done.\n",
        "65% done.\n",
        "65% done.\n",
        "66% done.\n",
        "66% done.\n",
        "67% done.\n",
        "67% done.\n",
        "68% done.\n",
        "68% done.\n",
        "69% done.\n",
        "69% done.\n",
        "70% done.\n",
        "70% done.\n",
        "71% done.\n",
        "71% done.\n",
        "72% done.\n",
        "72% done.\n",
        "73% done.\n",
        "73% done.\n",
        "74% done.\n",
        "74% done.\n",
        "75% done.\n",
        "75% done.\n",
        "76% done.\n",
        "76% done.\n",
        "77% done.\n",
        "77% done.\n",
        "78% done.\n",
        "78% done.\n",
        "79% done.\n",
        "79% done.\n",
        "80% done.\n",
        "80% done.\n",
        "81% done.\n",
        "81% done.\n",
        "82% done.\n",
        "82% done.\n",
        "83% done.\n",
        "83% done.\n",
        "84% done.\n",
        "84% done.\n",
        "85% done.\n",
        "85% done.\n",
        "86% done.\n",
        "86% done.\n",
        "87% done.\n",
        "87% done.\n",
        "88% done.\n",
        "88% done.\n",
        "89% done.\n",
        "89% done.\n",
        "90% done.\n",
        "90% done.\n",
        "91% done.\n",
        "91% done.\n",
        "92% done.\n",
        "92% done.\n",
        "93% done.\n",
        "93% done.\n",
        "94% done.\n",
        "94% done.\n",
        "95% done.\n",
        "95% done.\n",
        "96% done.\n",
        "96% done.\n",
        "97% done.\n",
        "97% done.\n",
        "98% done.\n",
        "98% done.\n",
        "99% done.\n",
        "100% done.\n",
        "cleanup_dfsp_lookuptable() cache_size=7\n",
        "\ttau=9.373063e-04\t\t\t9.373063e-04\n",
        "\ttau=1.874613e-03\t\t\t1.874613e-03\n",
        "\ttau=3.749225e-03\t\t\t3.749225e-03\n",
        "\ttau=7.498451e-03\t\t\t7.498451e-03\n",
        "\ttau=1.499690e-02\t\t\t1.499690e-02\n",
        "\ttau=2.999380e-02\t\t\t2.999380e-02\n",
        "\ttau=5.998760e-02\t\t\t5.998760e-02\n",
        "\n",
        "MEMORY USAGE:\n",
        "Lookup tables 4.52 MB (4735864 bytes) [7]\n",
        "\n",
        "COMPUTATION PROFILE:\n",
        "nsm-initialization 1.190000e-04 (s) (0.00%) [1] avg=1.190000e-04\n",
        "nsm 1.000000e-06 (s) (0.00%) [1] avg=1.000000e-06\n",
        "estimate error 1.327740e-01 (s) (3.34%) [700] avg=1.896771e-04\n",
        "compute timestep 6.348000e-03 (s) (0.16%) [700] avg=9.068571e-06\n",
        "lookup table 5.420000e-04 (s) (0.01%) [7693] avg=7.045366e-08\n",
        "lookup table-generate 1.493725e+00 (s) (37.61%) [7] avg=2.133893e-01\n",
        "diffusion 2.007473e+00 (s) (50.55%) [7693] avg=2.609480e-04\n",
        "reaction 2.944550e-01 (s) (7.41%) [7693] avg=3.827571e-05\n",
        "accept timestep 9.500000e-05 (s) (0.00%) [699] avg=1.359084e-07\n",
        "TOTAL TIME: 3.9715 (s)\n",
        "\n",
        "write_tspan\n",
        "destroy_output_writer\n",
        "destroy_model\n",
        "\n"
       ]
      }
     ],
     "prompt_number": 3
    },
    {
     "cell_type": "code",
     "collapsed": false,
     "input": [
      "print result.stderr"
     ],
     "language": "python",
     "metadata": {},
     "outputs": [
      {
       "output_type": "stream",
       "stream": "stdout",
       "text": [
        "\n"
       ]
      }
     ],
     "prompt_number": 4
    },
    {
     "cell_type": "code",
     "collapsed": false,
     "input": [
      "print \"Plotting solution\"\n",
      "# Plot of the time-average spatial concentration.\n",
      "x_vals = model.mesh.coordinates()[:, 0]\n",
      "A_vals = numpy.mean(result.get_species(\"A\", concentration=True), axis=0)\n",
      "B_vals = numpy.mean(result.get_species(\"B\", concentration=True), axis=0)\n",
      "plt.plot(x_vals,A_vals,'.r',x_vals,B_vals,'.b')\n",
      "plt.legend(['A', 'B'])"
     ],
     "language": "python",
     "metadata": {},
     "outputs": [
      {
       "output_type": "stream",
       "stream": "stdout",
       "text": [
        "Plotting solution\n"
       ]
      },
      {
       "metadata": {},
       "output_type": "pyout",
       "prompt_number": 5,
       "text": [
        "<matplotlib.legend.Legend at 0x10f9754d0>"
       ]
      },
      {
       "metadata": {},
       "output_type": "display_data",
       "png": "[encoded data removed]",
       "text": [
        "<matplotlib.figure.Figure at 0x1188cd350>"
       ]
      }
     ],
     "prompt_number": 5
    },
    {
     "cell_type": "code",
     "collapsed": false,
     "input": [
      "sol = ADFSPSolver(model, report_level=0)\n",
      "print \"Attempting to compile\"\n",
      "sol.compile()\n",
      "N = 100\n",
      "run_times = []\n",
      "print \"Beginning simulation:\"\n",
      "for n in range(N):\n",
      "    sys.stdout.write(str(n))\n",
      "    sys.stdout.flush()\n",
      "    t1 = time.time()\n",
      "    result = sol.run()\n",
      "    elapsed_time = time.time()-t1\n",
      "    run_times.append(elapsed_time)\n",
      "print \"Simulation of {0} trajectories: avg={1} std={2}\".format(N, numpy.mean(run_times), numpy.std(run_times))"
     ],
     "language": "python",
     "metadata": {},
     "outputs": [
      {
       "output_type": "stream",
       "stream": "stdout",
       "text": [
        "constructor for the ADFSPSolver, solver_path=/Users/brian/Desktop/research/operator_splitting/urdme_solvers\n",
        "Attempting to compile\n",
        "Beginning simulation:"
       ]
      },
      {
       "output_type": "stream",
       "stream": "stdout",
       "text": [
        "\n",
        "0"
       ]
      },
      {
       "output_type": "stream",
       "stream": "stdout",
       "text": [
        "1"
       ]
      },
      {
       "output_type": "stream",
       "stream": "stdout",
       "text": [
        "2"
       ]
      },
      {
       "output_type": "stream",
       "stream": "stdout",
       "text": [
        "3"
       ]
      },
      {
       "output_type": "stream",
       "stream": "stdout",
       "text": [
        "4"
       ]
      },
      {
       "output_type": "stream",
       "stream": "stdout",
       "text": [
        "5"
       ]
      },
      {
       "output_type": "stream",
       "stream": "stdout",
       "text": [
        "6"
       ]
      },
      {
       "output_type": "stream",
       "stream": "stdout",
       "text": [
        "7"
       ]
      },
      {
       "output_type": "stream",
       "stream": "stdout",
       "text": [
        "8"
       ]
      },
      {
       "output_type": "stream",
       "stream": "stdout",
       "text": [
        "9"
       ]
      },
      {
       "output_type": "stream",
       "stream": "stdout",
       "text": [
        "10"
       ]
      },
      {
       "output_type": "stream",
       "stream": "stdout",
       "text": [
        "11"
       ]
      },
      {
       "output_type": "stream",
       "stream": "stdout",
       "text": [
        "12"
       ]
      },
      {
       "output_type": "stream",
       "stream": "stdout",
       "text": [
        "13"
       ]
      },
      {
       "output_type": "stream",
       "stream": "stdout",
       "text": [
        "14"
       ]
      },
      {
       "output_type": "stream",
       "stream": "stdout",
       "text": [
        "15"
       ]
      },
      {
       "output_type": "stream",
       "stream": "stdout",
       "text": [
        "16"
       ]
      },
      {
       "output_type": "stream",
       "stream": "stdout",
       "text": [
        "17"
       ]
      },
      {
       "output_type": "stream",
       "stream": "stdout",
       "text": [
        "18"
       ]
      },
      {
       "output_type": "stream",
       "stream": "stdout",
       "text": [
        "19"
       ]
      },
      {
       "output_type": "stream",
       "stream": "stdout",
       "text": [
        "20"
       ]
      },
      {
       "output_type": "stream",
       "stream": "stdout",
       "text": [
        "21"
       ]
      },
      {
       "output_type": "stream",
       "stream": "stdout",
       "text": [
        "22"
       ]
      },
      {
       "output_type": "stream",
       "stream": "stdout",
       "text": [
        "23"
       ]
      },
      {
       "output_type": "stream",
       "stream": "stdout",
       "text": [
        "24"
       ]
      },
      {
       "output_type": "stream",
       "stream": "stdout",
       "text": [
        "25"
       ]
      },
      {
       "output_type": "stream",
       "stream": "stdout",
       "text": [
        "26"
       ]
      },
      {
       "output_type": "stream",
       "stream": "stdout",
       "text": [
        "27"
       ]
      },
      {
       "output_type": "stream",
       "stream": "stdout",
       "text": [
        "28"
       ]
      },
      {
       "output_type": "stream",
       "stream": "stdout",
       "text": [
        "29"
       ]
      },
      {
       "output_type": "stream",
       "stream": "stdout",
       "text": [
        "30"
       ]
      },
      {
       "output_type": "stream",
       "stream": "stdout",
       "text": [
        "31"
       ]
      },
      {
       "output_type": "stream",
       "stream": "stdout",
       "text": [
        "32"
       ]
      },
      {
       "output_type": "stream",
       "stream": "stdout",
       "text": [
        "33"
       ]
      },
      {
       "output_type": "stream",
       "stream": "stdout",
       "text": [
        "34"
       ]
      },
      {
       "output_type": "stream",
       "stream": "stdout",
       "text": [
        "35"
       ]
      },
      {
       "output_type": "stream",
       "stream": "stdout",
       "text": [
        "36"
       ]
      },
      {
       "output_type": "stream",
       "stream": "stdout",
       "text": [
        "37"
       ]
      },
      {
       "output_type": "stream",
       "stream": "stdout",
       "text": [
        "38"
       ]
      },
      {
       "output_type": "stream",
       "stream": "stdout",
       "text": [
        "39"
       ]
      },
      {
       "output_type": "stream",
       "stream": "stdout",
       "text": [
        "40"
       ]
      },
      {
       "output_type": "stream",
       "stream": "stdout",
       "text": [
        "41"
       ]
      },
      {
       "output_type": "stream",
       "stream": "stdout",
       "text": [
        "42"
       ]
      },
      {
       "output_type": "stream",
       "stream": "stdout",
       "text": [
        "43"
       ]
      },
      {
       "output_type": "stream",
       "stream": "stdout",
       "text": [
        "44"
       ]
      },
      {
       "output_type": "stream",
       "stream": "stdout",
       "text": [
        "45"
       ]
      },
      {
       "output_type": "stream",
       "stream": "stdout",
       "text": [
        "46"
       ]
      },
      {
       "output_type": "stream",
       "stream": "stdout",
       "text": [
        "47"
       ]
      },
      {
       "output_type": "stream",
       "stream": "stdout",
       "text": [
        "48"
       ]
      },
      {
       "output_type": "stream",
       "stream": "stdout",
       "text": [
        "49"
       ]
      },
      {
       "output_type": "stream",
       "stream": "stdout",
       "text": [
        "50"
       ]
      },
      {
       "output_type": "stream",
       "stream": "stdout",
       "text": [
        "51"
       ]
      },
      {
       "output_type": "stream",
       "stream": "stdout",
       "text": [
        "52"
       ]
      },
      {
       "output_type": "stream",
       "stream": "stdout",
       "text": [
        "53"
       ]
      },
      {
       "output_type": "stream",
       "stream": "stdout",
       "text": [
        "54"
       ]
      },
      {
       "output_type": "stream",
       "stream": "stdout",
       "text": [
        "55"
       ]
      },
      {
       "output_type": "stream",
       "stream": "stdout",
       "text": [
        "56"
       ]
      },
      {
       "output_type": "stream",
       "stream": "stdout",
       "text": [
        "57"
       ]
      },
      {
       "output_type": "stream",
       "stream": "stdout",
       "text": [
        "58"
       ]
      },
      {
       "output_type": "stream",
       "stream": "stdout",
       "text": [
        "59"
       ]
      },
      {
       "output_type": "stream",
       "stream": "stdout",
       "text": [
        "60"
       ]
      },
      {
       "output_type": "stream",
       "stream": "stdout",
       "text": [
        "61"
       ]
      },
      {
       "output_type": "stream",
       "stream": "stdout",
       "text": [
        "62"
       ]
      },
      {
       "output_type": "stream",
       "stream": "stdout",
       "text": [
        "63"
       ]
      },
      {
       "output_type": "stream",
       "stream": "stdout",
       "text": [
        "64"
       ]
      },
      {
       "output_type": "stream",
       "stream": "stdout",
       "text": [
        "65"
       ]
      },
      {
       "output_type": "stream",
       "stream": "stdout",
       "text": [
        "66"
       ]
      },
      {
       "output_type": "stream",
       "stream": "stdout",
       "text": [
        "67"
       ]
      },
      {
       "output_type": "stream",
       "stream": "stdout",
       "text": [
        "68"
       ]
      },
      {
       "output_type": "stream",
       "stream": "stdout",
       "text": [
        "69"
       ]
      },
      {
       "output_type": "stream",
       "stream": "stdout",
       "text": [
        "70"
       ]
      },
      {
       "output_type": "stream",
       "stream": "stdout",
       "text": [
        "71"
       ]
      },
      {
       "output_type": "stream",
       "stream": "stdout",
       "text": [
        "72"
       ]
      },
      {
       "output_type": "stream",
       "stream": "stdout",
       "text": [
        "73"
       ]
      },
      {
       "output_type": "stream",
       "stream": "stdout",
       "text": [
        "74"
       ]
      },
      {
       "output_type": "stream",
       "stream": "stdout",
       "text": [
        "75"
       ]
      },
      {
       "output_type": "stream",
       "stream": "stdout",
       "text": [
        "76"
       ]
      },
      {
       "output_type": "stream",
       "stream": "stdout",
       "text": [
        "77"
       ]
      },
      {
       "output_type": "stream",
       "stream": "stdout",
       "text": [
        "78"
       ]
      },
      {
       "output_type": "stream",
       "stream": "stdout",
       "text": [
        "79"
       ]
      },
      {
       "output_type": "stream",
       "stream": "stdout",
       "text": [
        "80"
       ]
      },
      {
       "output_type": "stream",
       "stream": "stdout",
       "text": [
        "81"
       ]
      },
      {
       "output_type": "stream",
       "stream": "stdout",
       "text": [
        "82"
       ]
      },
      {
       "output_type": "stream",
       "stream": "stdout",
       "text": [
        "83"
       ]
      },
      {
       "output_type": "stream",
       "stream": "stdout",
       "text": [
        "84"
       ]
      },
      {
       "output_type": "stream",
       "stream": "stdout",
       "text": [
        "85"
       ]
      },
      {
       "output_type": "stream",
       "stream": "stdout",
       "text": [
        "86"
       ]
      },
      {
       "output_type": "stream",
       "stream": "stdout",
       "text": [
        "87"
       ]
      },
      {
       "output_type": "stream",
       "stream": "stdout",
       "text": [
        "88"
       ]
      },
      {
       "output_type": "stream",
       "stream": "stdout",
       "text": [
        "89"
       ]
      },
      {
       "output_type": "stream",
       "stream": "stdout",
       "text": [
        "90"
       ]
      },
      {
       "output_type": "stream",
       "stream": "stdout",
       "text": [
        "91"
       ]
      },
      {
       "output_type": "stream",
       "stream": "stdout",
       "text": [
        "92"
       ]
      },
      {
       "output_type": "stream",
       "stream": "stdout",
       "text": [
        "93"
       ]
      },
      {
       "output_type": "stream",
       "stream": "stdout",
       "text": [
        "94"
       ]
      },
      {
       "output_type": "stream",
       "stream": "stdout",
       "text": [
        "95"
       ]
      },
      {
       "output_type": "stream",
       "stream": "stdout",
       "text": [
        "96"
       ]
      },
      {
       "output_type": "stream",
       "stream": "stdout",
       "text": [
        "97"
       ]
      },
      {
       "output_type": "stream",
       "stream": "stdout",
       "text": [
        "98"
       ]
      },
      {
       "output_type": "stream",
       "stream": "stdout",
       "text": [
        "99"
       ]
      },
      {
       "output_type": "stream",
       "stream": "stdout",
       "text": [
        "Simulation of 100 trajectories: avg=4.43572335482 std=0.801030015225\n"
       ]
      }
     ],
     "prompt_number": 6
    },
    {
     "cell_type": "code",
     "collapsed": false,
     "input": [
      "from pyurdme.nsmsolver import NSMSolver\n",
      "nsm = NSMSolver(model, report_level=0)\n",
      "print \"NSM: Attempting to compile\"\n",
      "nsm.compile()\n",
      "N = 100\n",
      "nsm_times = []\n",
      "print \"NSM: Beginning simulation:\",\n",
      "for n in range(N):\n",
      "    sys.stdout.write(str(n))\n",
      "    sys.stdout.flush()\n",
      "    t1 = time.time()\n",
      "    result = nsm.run()\n",
      "    elapsed_time = time.time()-t1\n",
      "    nsm_times.append(elapsed_time)\n",
      "print \"\"\n",
      "print \"NSM: Simulation of {0} trajectories: avg={1} std={2}\".format(N, numpy.mean(nsm_times), numpy.std(nsm_times))"
     ],
     "language": "python",
     "metadata": {},
     "outputs": [
      {
       "output_type": "stream",
       "stream": "stdout",
       "text": [
        "NSM: Attempting to compile\n",
        "NSM: Beginning simulation:"
       ]
      },
      {
       "output_type": "stream",
       "stream": "stdout",
       "text": [
        "0"
       ]
      },
      {
       "output_type": "stream",
       "stream": "stdout",
       "text": [
        "1"
       ]
      },
      {
       "output_type": "stream",
       "stream": "stdout",
       "text": [
        "2"
       ]
      },
      {
       "output_type": "stream",
       "stream": "stdout",
       "text": [
        "3"
       ]
      },
      {
       "output_type": "stream",
       "stream": "stdout",
       "text": [
        "4"
       ]
      },
      {
       "output_type": "stream",
       "stream": "stdout",
       "text": [
        "5"
       ]
      },
      {
       "output_type": "stream",
       "stream": "stdout",
       "text": [
        "6"
       ]
      },
      {
       "output_type": "stream",
       "stream": "stdout",
       "text": [
        "7"
       ]
      },
      {
       "output_type": "stream",
       "stream": "stdout",
       "text": [
        "8"
       ]
      },
      {
       "output_type": "stream",
       "stream": "stdout",
       "text": [
        "9"
       ]
      },
      {
       "output_type": "stream",
       "stream": "stdout",
       "text": [
        "10"
       ]
      },
      {
       "output_type": "stream",
       "stream": "stdout",
       "text": [
        "11"
       ]
      },
      {
       "output_type": "stream",
       "stream": "stdout",
       "text": [
        "12"
       ]
      },
      {
       "output_type": "stream",
       "stream": "stdout",
       "text": [
        "13"
       ]
      },
      {
       "output_type": "stream",
       "stream": "stdout",
       "text": [
        "14"
       ]
      },
      {
       "output_type": "stream",
       "stream": "stdout",
       "text": [
        "15"
       ]
      },
      {
       "output_type": "stream",
       "stream": "stdout",
       "text": [
        "16"
       ]
      },
      {
       "output_type": "stream",
       "stream": "stdout",
       "text": [
        "17"
       ]
      },
      {
       "output_type": "stream",
       "stream": "stdout",
       "text": [
        "18"
       ]
      },
      {
       "output_type": "stream",
       "stream": "stdout",
       "text": [
        "19"
       ]
      },
      {
       "output_type": "stream",
       "stream": "stdout",
       "text": [
        "20"
       ]
      },
      {
       "output_type": "stream",
       "stream": "stdout",
       "text": [
        "21"
       ]
      },
      {
       "output_type": "stream",
       "stream": "stdout",
       "text": [
        "22"
       ]
      },
      {
       "output_type": "stream",
       "stream": "stdout",
       "text": [
        "23"
       ]
      },
      {
       "output_type": "stream",
       "stream": "stdout",
       "text": [
        "24"
       ]
      },
      {
       "output_type": "stream",
       "stream": "stdout",
       "text": [
        "25"
       ]
      },
      {
       "output_type": "stream",
       "stream": "stdout",
       "text": [
        "26"
       ]
      },
      {
       "output_type": "stream",
       "stream": "stdout",
       "text": [
        "27"
       ]
      },
      {
       "output_type": "stream",
       "stream": "stdout",
       "text": [
        "28"
       ]
      },
      {
       "output_type": "stream",
       "stream": "stdout",
       "text": [
        "29"
       ]
      },
      {
       "output_type": "stream",
       "stream": "stdout",
       "text": [
        "30"
       ]
      },
      {
       "output_type": "stream",
       "stream": "stdout",
       "text": [
        "31"
       ]
      },
      {
       "output_type": "stream",
       "stream": "stdout",
       "text": [
        "32"
       ]
      },
      {
       "output_type": "stream",
       "stream": "stdout",
       "text": [
        "33"
       ]
      },
      {
       "output_type": "stream",
       "stream": "stdout",
       "text": [
        "34"
       ]
      },
      {
       "output_type": "stream",
       "stream": "stdout",
       "text": [
        "35"
       ]
      },
      {
       "output_type": "stream",
       "stream": "stdout",
       "text": [
        "36"
       ]
      },
      {
       "output_type": "stream",
       "stream": "stdout",
       "text": [
        "37"
       ]
      },
      {
       "output_type": "stream",
       "stream": "stdout",
       "text": [
        "38"
       ]
      },
      {
       "output_type": "stream",
       "stream": "stdout",
       "text": [
        "39"
       ]
      },
      {
       "output_type": "stream",
       "stream": "stdout",
       "text": [
        "40"
       ]
      },
      {
       "output_type": "stream",
       "stream": "stdout",
       "text": [
        "41"
       ]
      },
      {
       "output_type": "stream",
       "stream": "stdout",
       "text": [
        "42"
       ]
      },
      {
       "output_type": "stream",
       "stream": "stdout",
       "text": [
        "43"
       ]
      },
      {
       "output_type": "stream",
       "stream": "stdout",
       "text": [
        "44"
       ]
      },
      {
       "output_type": "stream",
       "stream": "stdout",
       "text": [
        "45"
       ]
      },
      {
       "output_type": "stream",
       "stream": "stdout",
       "text": [
        "46"
       ]
      },
      {
       "output_type": "stream",
       "stream": "stdout",
       "text": [
        "47"
       ]
      },
      {
       "output_type": "stream",
       "stream": "stdout",
       "text": [
        "48"
       ]
      },
      {
       "output_type": "stream",
       "stream": "stdout",
       "text": [
        "49"
       ]
      },
      {
       "output_type": "stream",
       "stream": "stdout",
       "text": [
        "50"
       ]
      },
      {
       "output_type": "stream",
       "stream": "stdout",
       "text": [
        "51"
       ]
      },
      {
       "output_type": "stream",
       "stream": "stdout",
       "text": [
        "52"
       ]
      },
      {
       "output_type": "stream",
       "stream": "stdout",
       "text": [
        "53"
       ]
      },
      {
       "output_type": "stream",
       "stream": "stdout",
       "text": [
        "54"
       ]
      },
      {
       "output_type": "stream",
       "stream": "stdout",
       "text": [
        "55"
       ]
      },
      {
       "output_type": "stream",
       "stream": "stdout",
       "text": [
        "56"
       ]
      },
      {
       "output_type": "stream",
       "stream": "stdout",
       "text": [
        "57"
       ]
      },
      {
       "output_type": "stream",
       "stream": "stdout",
       "text": [
        "58"
       ]
      },
      {
       "output_type": "stream",
       "stream": "stdout",
       "text": [
        "59"
       ]
      },
      {
       "output_type": "stream",
       "stream": "stdout",
       "text": [
        "60"
       ]
      },
      {
       "output_type": "stream",
       "stream": "stdout",
       "text": [
        "61"
       ]
      },
      {
       "output_type": "stream",
       "stream": "stdout",
       "text": [
        "62"
       ]
      },
      {
       "output_type": "stream",
       "stream": "stdout",
       "text": [
        "63"
       ]
      },
      {
       "output_type": "stream",
       "stream": "stdout",
       "text": [
        "64"
       ]
      },
      {
       "output_type": "stream",
       "stream": "stdout",
       "text": [
        "65"
       ]
      },
      {
       "output_type": "stream",
       "stream": "stdout",
       "text": [
        "66"
       ]
      },
      {
       "output_type": "stream",
       "stream": "stdout",
       "text": [
        "67"
       ]
      },
      {
       "output_type": "stream",
       "stream": "stdout",
       "text": [
        "68"
       ]
      },
      {
       "output_type": "stream",
       "stream": "stdout",
       "text": [
        "69"
       ]
      },
      {
       "output_type": "stream",
       "stream": "stdout",
       "text": [
        "70"
       ]
      },
      {
       "output_type": "stream",
       "stream": "stdout",
       "text": [
        "71"
       ]
      },
      {
       "output_type": "stream",
       "stream": "stdout",
       "text": [
        "72"
       ]
      },
      {
       "output_type": "stream",
       "stream": "stdout",
       "text": [
        "73"
       ]
      },
      {
       "output_type": "stream",
       "stream": "stdout",
       "text": [
        "74"
       ]
      },
      {
       "output_type": "stream",
       "stream": "stdout",
       "text": [
        "75"
       ]
      },
      {
       "output_type": "stream",
       "stream": "stdout",
       "text": [
        "76"
       ]
      },
      {
       "output_type": "stream",
       "stream": "stdout",
       "text": [
        "77"
       ]
      },
      {
       "output_type": "stream",
       "stream": "stdout",
       "text": [
        "78"
       ]
      },
      {
       "output_type": "stream",
       "stream": "stdout",
       "text": [
        "79"
       ]
      },
      {
       "output_type": "stream",
       "stream": "stdout",
       "text": [
        "80"
       ]
      },
      {
       "output_type": "stream",
       "stream": "stdout",
       "text": [
        "81"
       ]
      },
      {
       "output_type": "stream",
       "stream": "stdout",
       "text": [
        "82"
       ]
      },
      {
       "output_type": "stream",
       "stream": "stdout",
       "text": [
        "83"
       ]
      },
      {
       "output_type": "stream",
       "stream": "stdout",
       "text": [
        "84"
       ]
      },
      {
       "output_type": "stream",
       "stream": "stdout",
       "text": [
        "85"
       ]
      },
      {
       "output_type": "stream",
       "stream": "stdout",
       "text": [
        "86"
       ]
      },
      {
       "output_type": "stream",
       "stream": "stdout",
       "text": [
        "87"
       ]
      },
      {
       "output_type": "stream",
       "stream": "stdout",
       "text": [
        "88"
       ]
      },
      {
       "output_type": "stream",
       "stream": "stdout",
       "text": [
        "89"
       ]
      },
      {
       "output_type": "stream",
       "stream": "stdout",
       "text": [
        "90"
       ]
      },
      {
       "output_type": "stream",
       "stream": "stdout",
       "text": [
        "91"
       ]
      },
      {
       "output_type": "stream",
       "stream": "stdout",
       "text": [
        "92"
       ]
      },
      {
       "output_type": "stream",
       "stream": "stdout",
       "text": [
        "93"
       ]
      },
      {
       "output_type": "stream",
       "stream": "stdout",
       "text": [
        "94"
       ]
      },
      {
       "output_type": "stream",
       "stream": "stdout",
       "text": [
        "95"
       ]
      },
      {
       "output_type": "stream",
       "stream": "stdout",
       "text": [
        "96"
       ]
      },
      {
       "output_type": "stream",
       "stream": "stdout",
       "text": [
        "97"
       ]
      },
      {
       "output_type": "stream",
       "stream": "stdout",
       "text": [
        "98"
       ]
      },
      {
       "output_type": "stream",
       "stream": "stdout",
       "text": [
        "99"
       ]
      },
      {
       "output_type": "stream",
       "stream": "stdout",
       "text": [
        " \n",
        "NSM: Simulation of 100 trajectories: avg=3.97554760456 std=0.0786019587534\n"
       ]
      }
     ],
     "prompt_number": 7
    },
    {
     "cell_type": "code",
     "collapsed": false,
     "input": [],
     "language": "python",
     "metadata": {},
     "outputs": []
    },
    {
     "cell_type": "code",
     "collapsed": false,
     "input": [],
     "language": "python",
     "metadata": {},
     "outputs": []
    }
   ],
   "metadata": {}
  }
 ]
}